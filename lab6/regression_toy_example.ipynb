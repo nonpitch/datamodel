{
  "nbformat": 4,
  "nbformat_minor": 0,
  "metadata": {
    "colab": {
      "provenance": []
    },
    "kernelspec": {
      "name": "python3",
      "display_name": "Python 3"
    },
    "language_info": {
      "name": "python"
    }
  },
  "cells": [
    {
      "cell_type": "markdown",
      "source": [
        "# Lab 6: Introducing Regression\n",
        "\n",
        "Objectives:\n",
        "- To gain hands-on experience with regression models using an example dataset.\n",
        "- To better understand the concept of regression through its applications."
      ],
      "metadata": {
        "id": "rgT5xuWmByGy"
      }
    },
    {
      "cell_type": "code",
      "source": [
        "# Run this cell if you use Colab\n",
        "from google.colab import drive\n",
        "drive.mount('/content/drive')"
      ],
      "metadata": {
        "id": "zdprRm7SGSPf"
      },
      "execution_count": null,
      "outputs": []
    },
    {
      "cell_type": "markdown",
      "source": [
        "##Linear Regression"
      ],
      "metadata": {
        "id": "En3X1d_42mEI"
      }
    },
    {
      "cell_type": "markdown",
      "source": [
        "###*Simple* Linear Regression"
      ],
      "metadata": {
        "id": "if1J3_JFrYF-"
      }
    },
    {
      "cell_type": "markdown",
      "source": [
        "####Example #1\n",
        "\n",
        "The following example is from this [reference](https://scikit-learn.org/stable/auto_examples/linear_model/plot_ols.html).\n",
        "\n",
        "This type of linear regression deals with **one** independent variable.\n",
        "\n",
        "This example uses only *the first feature* of the diabetes dataset to illustrate the data points within the two-dimensional plot.\n",
        ""
      ],
      "metadata": {
        "id": "vXatwukasD5O"
      }
    },
    {
      "cell_type": "code",
      "execution_count": null,
      "metadata": {
        "id": "_bSdnfp9ez4H"
      },
      "outputs": [],
      "source": [
        "# Code source: Jaques Grobler\n",
        "# License: BSD 3 clause\n",
        "\n",
        "import matplotlib.pyplot as plt\n",
        "import numpy as np\n",
        "\n",
        "from sklearn import datasets, linear_model\n",
        "from sklearn.metrics import mean_squared_error, r2_score\n",
        "\n",
        "# Load the diabetes dataset\n",
        "diabetes_X, diabetes_y = datasets.load_diabetes(return_X_y=True)"
      ]
    },
    {
      "cell_type": "markdown",
      "source": [
        "Determine the shape of data."
      ],
      "metadata": {
        "id": "686MqDCbrt3M"
      }
    },
    {
      "cell_type": "code",
      "source": [
        "print('Shape of X: %s'%str(diabetes_X.shape))\n",
        "print('Shape of y: %s'%str(diabetes_y.shape))"
      ],
      "metadata": {
        "id": "4JL1A0cliDcp"
      },
      "execution_count": null,
      "outputs": []
    },
    {
      "cell_type": "code",
      "source": [
        "diabetes_X[:10]"
      ],
      "metadata": {
        "id": "N-UXQkJtiXcl"
      },
      "execution_count": null,
      "outputs": []
    },
    {
      "cell_type": "code",
      "source": [
        "diabetes_y[:10]"
      ],
      "metadata": {
        "id": "gIH3jEZziknY"
      },
      "execution_count": null,
      "outputs": []
    },
    {
      "cell_type": "markdown",
      "source": [
        "Use only one feature."
      ],
      "metadata": {
        "id": "L-X9LH4sZ89q"
      }
    },
    {
      "cell_type": "code",
      "source": [
        "# Use only one feature\n",
        "diabetes_X = diabetes_X[:, np.newaxis, 2]"
      ],
      "metadata": {
        "id": "BOqpGTumZ5rC"
      },
      "execution_count": null,
      "outputs": []
    },
    {
      "cell_type": "markdown",
      "source": [
        "Plot all data points."
      ],
      "metadata": {
        "id": "f-6GE9ZPwSAu"
      }
    },
    {
      "cell_type": "code",
      "source": [
        "# Plot outputs\n",
        "plt.scatter(diabetes_X, diabetes_y, color=\"black\")\n",
        "\n",
        "plt.title(\"Scatter Plot of All Data\")\n",
        "plt.xticks()\n",
        "plt.yticks()\n",
        "plt.xlabel(\"x\")\n",
        "plt.ylabel(\"y\")\n",
        "plt.show()"
      ],
      "metadata": {
        "id": "eVnrFVOjtJW7"
      },
      "execution_count": null,
      "outputs": []
    },
    {
      "cell_type": "markdown",
      "source": [
        "Split data into training set and test set."
      ],
      "metadata": {
        "id": "xnc3JcnDrqA9"
      }
    },
    {
      "cell_type": "code",
      "source": [
        "# Split the data into training/testing sets\n",
        "diabetes_X_train = diabetes_X[:-20]\n",
        "diabetes_X_test = diabetes_X[-20:]\n",
        "\n",
        "# Split the targets into training/testing sets\n",
        "diabetes_y_train = diabetes_y[:-20]\n",
        "diabetes_y_test = diabetes_y[-20:]"
      ],
      "metadata": {
        "id": "zD_5ANWZqc7L"
      },
      "execution_count": null,
      "outputs": []
    },
    {
      "cell_type": "markdown",
      "source": [
        "Create a linear regression model."
      ],
      "metadata": {
        "id": "vxYdKVq_wbQ-"
      }
    },
    {
      "cell_type": "code",
      "source": [
        "# Create linear regression object\n",
        "regr = linear_model.LinearRegression()\n",
        "\n",
        "# Train the model using the training sets\n",
        "regr.fit(diabetes_X_train, diabetes_y_train)\n",
        "\n",
        "# Make predictions using the testing set\n",
        "diabetes_y_pred = regr.predict(diabetes_X_test)"
      ],
      "metadata": {
        "id": "mrKPN0vyqfCE"
      },
      "execution_count": null,
      "outputs": []
    },
    {
      "cell_type": "markdown",
      "source": [
        "Results."
      ],
      "metadata": {
        "id": "2XC3ZG0twfEv"
      }
    },
    {
      "cell_type": "code",
      "source": [
        "# The coefficients\n",
        "print(\"Coefficients: \\n\", regr.coef_)\n",
        "# The mean squared error\n",
        "print(\"Mean squared error: %.2f\" % mean_squared_error(diabetes_y_test, diabetes_y_pred))\n",
        "# The coefficient of determination: 1 is perfect prediction\n",
        "print(\"Coefficient of determination: %.2f\" % r2_score(diabetes_y_test, diabetes_y_pred))"
      ],
      "metadata": {
        "id": "vv-Zyqu-qjOv"
      },
      "execution_count": null,
      "outputs": []
    },
    {
      "cell_type": "code",
      "source": [
        "# Plot outputs\n",
        "plt.scatter(diabetes_X_test, diabetes_y_test, color=\"black\")\n",
        "plt.plot(diabetes_X_test, diabetes_y_pred, color=\"blue\", linewidth=3)\n",
        "\n",
        "plt.title(\"Test Data and Linear Regression Model\")\n",
        "plt.xticks()\n",
        "plt.yticks()\n",
        "plt.xlabel(\"x\")\n",
        "plt.ylabel(\"y\")\n",
        "plt.show()"
      ],
      "metadata": {
        "id": "KAzKHfDIqkvH"
      },
      "execution_count": null,
      "outputs": []
    },
    {
      "cell_type": "markdown",
      "source": [
        "####Example #2\n",
        "\n",
        "The following example is from this [reference](https://www.w3schools.com/python/python_ml_multiple_regression.asp).\n",
        "\n",
        "First load the data."
      ],
      "metadata": {
        "id": "ansyIMnQVdZO"
      }
    },
    {
      "cell_type": "code",
      "source": [
        "import pandas as pd\n",
        "\n",
        "# Load the data\n",
        "df = pd.read_csv('data_MLR.csv')\n",
        "print(df.shape)\n",
        "df.head()"
      ],
      "metadata": {
        "id": "PepZ1ImBVm5j"
      },
      "execution_count": null,
      "outputs": []
    },
    {
      "cell_type": "markdown",
      "source": [
        "We'll pick only one independent variable and one dependent variable.\n",
        "\n",
        "Let's first pick ```Volume``` to see how well it could capture variance of the data.\n",
        "- Independent variable (x) =  Volume\n",
        "- Dependent variable (y) = CO2"
      ],
      "metadata": {
        "id": "VdABm5ypVtk5"
      }
    },
    {
      "cell_type": "code",
      "source": [
        "X_2 = df[['Volume']].values.reshape(-1,1)\n",
        "y_2 = df['CO2'].values"
      ],
      "metadata": {
        "id": "kFXgV8n7WNFh"
      },
      "execution_count": null,
      "outputs": []
    },
    {
      "cell_type": "markdown",
      "source": [
        "Plot the data."
      ],
      "metadata": {
        "id": "asRqZg7mWXzr"
      }
    },
    {
      "cell_type": "code",
      "source": [
        "plt.style.use('default')\n",
        "plt.style.use('ggplot')\n",
        "\n",
        "fig, ax = plt.subplots(figsize=(8, 4))\n",
        "\n",
        "ax.scatter(X_2, y_2, edgecolor='k', facecolor='grey', alpha=0.7)\n",
        "ax.set_ylabel('CO2', fontsize=14)\n",
        "ax.set_xlabel('Volume', fontsize=14)\n",
        "ax.set_title('Scatter Plot of All Data')"
      ],
      "metadata": {
        "id": "17Ch6muKWZZm"
      },
      "execution_count": null,
      "outputs": []
    },
    {
      "cell_type": "markdown",
      "source": [
        "Create a linear regression model."
      ],
      "metadata": {
        "id": "2OKji0kFWadv"
      }
    },
    {
      "cell_type": "code",
      "source": [
        "regr = linear_model.LinearRegression()\n",
        "regr.fit(X_2, y_2)\n",
        "model = regr.predict(X_2)"
      ],
      "metadata": {
        "id": "qu51VzsHWd05"
      },
      "execution_count": null,
      "outputs": []
    },
    {
      "cell_type": "markdown",
      "source": [
        "Plot it out to see how well the model (using ```Volume```) fits the data."
      ],
      "metadata": {
        "id": "WyoEWWMDlpAp"
      }
    },
    {
      "cell_type": "code",
      "source": [
        "plt.style.use('default')\n",
        "plt.style.use('ggplot')\n",
        "\n",
        "fig, ax = plt.subplots(figsize=(8, 4))\n",
        "\n",
        "ax.plot(X_2, model, color='k', label='Regression model')\n",
        "ax.scatter(X_2, y_2, edgecolor='k', facecolor='grey', alpha=0.7)\n",
        "ax.set_ylabel('CO2', fontsize=14)\n",
        "ax.set_xlabel('Volume', fontsize=14)\n",
        "\n",
        "ax.set_title('Linear Regression Model')"
      ],
      "metadata": {
        "id": "im2xL1COd3Pg"
      },
      "execution_count": null,
      "outputs": []
    },
    {
      "cell_type": "markdown",
      "source": [
        "###Multiple Linear Regression"
      ],
      "metadata": {
        "id": "awNgqzXB2eWH"
      }
    },
    {
      "cell_type": "markdown",
      "source": [
        "We'll use the previous dataset."
      ],
      "metadata": {
        "id": "sKV59k0Q7cKg"
      }
    },
    {
      "cell_type": "code",
      "source": [
        "# reload the data\n",
        "df = pd.read_csv('data_MLR.csv')\n",
        "print(df.shape)\n",
        "df.head()"
      ],
      "metadata": {
        "id": "kt87q_2F3RmR"
      },
      "execution_count": null,
      "outputs": []
    },
    {
      "cell_type": "markdown",
      "source": [
        "Now select *two variables* of interest.\n",
        "\n",
        "- Independent variables (x) include ```Weight``` and ```Volumne```.\n",
        "\n",
        "- Dependent variable (y) is ```CO2```."
      ],
      "metadata": {
        "id": "0IL65_3JAcMz"
      }
    },
    {
      "cell_type": "code",
      "source": [
        "X_m = df[['Weight', 'Volume']].values.reshape(-1,2)\n",
        "y_m = df['CO2']\n",
        "\n",
        "# Prepare model data point for visualization\n",
        "x = X_m[:, 0]\n",
        "y = X_m[:, 1]\n",
        "z = y_m"
      ],
      "metadata": {
        "id": "Mn3iH1MEAYqd"
      },
      "execution_count": null,
      "outputs": []
    },
    {
      "cell_type": "markdown",
      "source": [
        "Print values of each feature to double check the correctness."
      ],
      "metadata": {
        "id": "9zUTS1TMSsn2"
      }
    },
    {
      "cell_type": "code",
      "source": [
        "print('Values of feature #1: Weight')\n",
        "print(x)"
      ],
      "metadata": {
        "id": "VAP7oORESX1o"
      },
      "execution_count": null,
      "outputs": []
    },
    {
      "cell_type": "code",
      "source": [
        "print('Values of feature #2: Volume')\n",
        "print(y)"
      ],
      "metadata": {
        "id": "YsDvBQexSpZQ"
      },
      "execution_count": null,
      "outputs": []
    },
    {
      "cell_type": "code",
      "source": [
        "print('Values of feature #3: CO2')\n",
        "print(z)"
      ],
      "metadata": {
        "id": "J85eeGGnSv_7"
      },
      "execution_count": null,
      "outputs": []
    },
    {
      "cell_type": "markdown",
      "source": [
        "Let's visualize it in 3D."
      ],
      "metadata": {
        "id": "oFjKzjKDGXrs"
      }
    },
    {
      "cell_type": "code",
      "source": [
        "plt.style.use('default')\n",
        "fig = plt.figure(figsize=(6, 6))\n",
        "\n",
        "\n",
        "ax = fig.add_subplot(projection='3d')\n",
        "ax.plot(x, y, z, color='k', zorder=15, linestyle='none', marker='o', alpha=0.5)\n",
        "ax.set_xlabel('Weight', fontsize=12)\n",
        "ax.set_ylabel('Volume', fontsize=12)\n",
        "ax.set_zlabel('CO2', fontsize=12)\n",
        "ax.locator_params(nbins=10, axis='x')\n"
      ],
      "metadata": {
        "id": "fOjlzLwjGY7p"
      },
      "execution_count": null,
      "outputs": []
    },
    {
      "cell_type": "markdown",
      "source": [
        "Visualize from different angle."
      ],
      "metadata": {
        "id": "OG8ByqsCywwr"
      }
    },
    {
      "cell_type": "code",
      "source": [
        "plt.style.use('default')\n",
        "fig = plt.figure(figsize=(6, 6))\n",
        "\n",
        "ax = fig.add_subplot(projection='3d')\n",
        "ax.plot(x, y, z, color='k', zorder=15, linestyle='none', marker='o', alpha=0.5)\n",
        "ax.set_xlabel('Weight', fontsize=12)\n",
        "ax.set_ylabel('Volume', fontsize=12)\n",
        "ax.set_zlabel('CO2', fontsize=12)\n",
        "ax.locator_params(nbins=10, axis='x')\n",
        "\n",
        "ax.view_init(elev=4, azim=114)"
      ],
      "metadata": {
        "id": "4c3D3KlDyIuP"
      },
      "execution_count": null,
      "outputs": []
    },
    {
      "cell_type": "code",
      "source": [
        "plt.style.use('default')\n",
        "fig = plt.figure(figsize=(6, 6))\n",
        "\n",
        "ax = fig.add_subplot(projection='3d')\n",
        "ax.plot(x, y, z, color='k', zorder=15, linestyle='none', marker='o', alpha=0.5)\n",
        "ax.set_xlabel('Weight', fontsize=12)\n",
        "ax.set_ylabel('Volume', fontsize=12)\n",
        "ax.set_zlabel('CO2', fontsize=12)\n",
        "ax.locator_params(nbins=10, axis='x')\n",
        "\n",
        "ax.view_init(elev=60, azim=165)"
      ],
      "metadata": {
        "id": "eEYKB7OzyN32"
      },
      "execution_count": null,
      "outputs": []
    },
    {
      "cell_type": "markdown",
      "source": [
        "Create a linear regression model."
      ],
      "metadata": {
        "id": "pAHa3Q7ZBk4D"
      }
    },
    {
      "cell_type": "code",
      "source": [
        "regr = linear_model.LinearRegression()\n",
        "model = regr.fit(X_m, y_m)"
      ],
      "metadata": {
        "id": "i27Vnyd7BGPH"
      },
      "execution_count": null,
      "outputs": []
    },
    {
      "cell_type": "markdown",
      "source": [
        "Now, let's try predicting value of CO2, given some weight and volume."
      ],
      "metadata": {
        "id": "aihzOaZgy4lP"
      }
    },
    {
      "cell_type": "code",
      "source": [
        "predictedCO2 = regr.predict([[3300, 1300]])\n",
        "\n",
        "print(predictedCO2)\n",
        "ax.view_init(elev=60, azim=165)"
      ],
      "metadata": {
        "id": "_biAddpSuYt_"
      },
      "execution_count": null,
      "outputs": []
    },
    {
      "cell_type": "markdown",
      "source": [
        "##Polynomial Regression"
      ],
      "metadata": {
        "id": "YVu8rN9Xrc1X"
      }
    },
    {
      "cell_type": "markdown",
      "source": [
        "\n",
        "This example is from [reference](https://medium.com/@shuv.sdr/polynomial-regression-in-python-58198fb0973f)."
      ],
      "metadata": {
        "id": "wHsYHvoH7wPb"
      }
    },
    {
      "cell_type": "code",
      "source": [
        "# Load dataset\n",
        "df_sal = pd.read_csv('Position_Salaries.csv')\n",
        "\n",
        "# See first 5 rows of the dataset\n",
        "df_sal.head()"
      ],
      "metadata": {
        "id": "34gRfdvfrfQp"
      },
      "execution_count": null,
      "outputs": []
    },
    {
      "cell_type": "markdown",
      "source": [
        "Plot Salary and Level to see if there's any relationship among the two features."
      ],
      "metadata": {
        "id": "j5jvxKEv9Z0x"
      }
    },
    {
      "cell_type": "code",
      "source": [
        "# Relationship between Salary and Level\n",
        "plt.scatter(df_sal['Level'], df_sal['Salary'], color = 'red')\n",
        "plt.title('Salary vs Level')\n",
        "plt.xticks()\n",
        "plt.yticks()\n",
        "plt.xlabel('Level')\n",
        "plt.ylabel('Salary')\n",
        "plt.show()"
      ],
      "metadata": {
        "id": "zLfo-NlJ0OBu"
      },
      "execution_count": null,
      "outputs": []
    },
    {
      "cell_type": "markdown",
      "source": [
        "Preparing the data."
      ],
      "metadata": {
        "id": "VMckXrkn9h3Z"
      }
    },
    {
      "cell_type": "code",
      "source": [
        "# Splitting variables\n",
        "X = df_sal.iloc[:, 1:-1].values  # independent\n",
        "y = df_sal.iloc[:, -1].values  # dependent"
      ],
      "metadata": {
        "id": "aLrLWqim0p4G"
      },
      "execution_count": null,
      "outputs": []
    },
    {
      "cell_type": "markdown",
      "source": [
        "Train *polynomial regression model* on the whole dataset."
      ],
      "metadata": {
        "id": "b-Zt9aky9s7X"
      }
    },
    {
      "cell_type": "code",
      "source": [
        "from sklearn.preprocessing import PolynomialFeatures\n",
        "from sklearn.linear_model import LinearRegression\n",
        "\n",
        "pr = PolynomialFeatures(degree = 4)\n",
        "X_poly = pr.fit_transform(X)\n",
        "lr_2 = LinearRegression()\n",
        "lr_2.fit(X_poly, y)\n"
      ],
      "metadata": {
        "id": "3KsDPBdc0sZY"
      },
      "execution_count": null,
      "outputs": []
    },
    {
      "cell_type": "markdown",
      "source": [
        "Train *linear regression model* on whole dataset"
      ],
      "metadata": {
        "id": "bHy9wa7C9z-C"
      }
    },
    {
      "cell_type": "code",
      "source": [
        "lr = LinearRegression()\n",
        "lr.fit(X, y)"
      ],
      "metadata": {
        "id": "0Wy14Vg203J4"
      },
      "execution_count": null,
      "outputs": []
    },
    {
      "cell_type": "markdown",
      "source": [
        "Let's predict the results from both models and compare them."
      ],
      "metadata": {
        "id": "5P_tXULU931n"
      }
    },
    {
      "cell_type": "code",
      "source": [
        "# Predict results\n",
        "y_pred_lr = lr.predict(X)           # Linear Regression\n",
        "y_pred_poly = lr_2.predict(X_poly)  # Polynomial Regression"
      ],
      "metadata": {
        "id": "v-V_M7Fl1ARW"
      },
      "execution_count": null,
      "outputs": []
    },
    {
      "cell_type": "markdown",
      "source": [
        "Output from linear regression model."
      ],
      "metadata": {
        "id": "Zp6hRoVx99FM"
      }
    },
    {
      "cell_type": "code",
      "source": [
        "# Visualize real data with linear regression\n",
        "plt.scatter(X, y, color = 'black')\n",
        "plt.plot(X, lr.predict(X), color = 'red')\n",
        "plt.title('Real data (Linear Regression)')\n",
        "plt.xlabel('Position Level')\n",
        "plt.ylabel('Salary')\n",
        "plt.legend(['X/y_pred_lr', 'X/y'], title = 'Salary/Level', loc='best', facecolor='white')\n",
        "# plt.box(False)\n",
        "plt.grid()\n",
        "plt.show()"
      ],
      "metadata": {
        "id": "SzMh-OH01iu0"
      },
      "execution_count": null,
      "outputs": []
    },
    {
      "cell_type": "markdown",
      "source": [
        "Output from polynomial regression model."
      ],
      "metadata": {
        "id": "kB7mp6v-9_yA"
      }
    },
    {
      "cell_type": "code",
      "source": [
        "# Visualize real data with polynomial regression\n",
        "X_grid = np.arange(min(X), max(X), 0.1)\n",
        "X_grid = X_grid.reshape((len(X_grid), 1))\n",
        "plt.scatter(X, y, color = 'black')\n",
        "plt.plot(X, lr_2.predict(X_poly), color = 'blue')\n",
        "plt.title('Real data (Polynomial Regression)')\n",
        "plt.xlabel('Position Level')\n",
        "plt.ylabel('Salary')\n",
        "plt.legend(['X/y_pred_poly', 'X/y'], title = 'Salary/Level', loc='best', facecolor='white')\n",
        "# plt.box(False)\n",
        "plt.grid()\n",
        "plt.show()\n"
      ],
      "metadata": {
        "id": "SxdpdLHy1mP1"
      },
      "execution_count": null,
      "outputs": []
    }
  ]
}