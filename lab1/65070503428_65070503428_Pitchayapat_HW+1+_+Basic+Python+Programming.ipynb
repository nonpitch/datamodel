{
  "cells": [
    {
      "cell_type": "markdown",
      "id": "64e93d7b-1c77-47d7-b3e0-f77cca1258b7",
      "metadata": {
        "id": "64e93d7b-1c77-47d7-b3e0-f77cca1258b7"
      },
      "source": [
        "# Lab 1: Basic Python Programming"
      ]
    },
    {
      "cell_type": "markdown",
      "id": "ccb5a923-50cb-4347-8241-904c8d3bd6f5",
      "metadata": {
        "id": "ccb5a923-50cb-4347-8241-904c8d3bd6f5"
      },
      "source": [
        "## 1. Basic usage"
      ]
    },
    {
      "cell_type": "markdown",
      "id": "fc437319-7d8c-42a6-90a3-c027dd394f55",
      "metadata": {
        "id": "fc437319-7d8c-42a6-90a3-c027dd394f55"
      },
      "source": [
        "> John Doe is a 29 years-old system engineer who earns ฿41500.00 a month."
      ]
    },
    {
      "cell_type": "markdown",
      "id": "e916ec77-882f-4770-a876-8034e505d987",
      "metadata": {
        "id": "e916ec77-882f-4770-a876-8034e505d987"
      },
      "source": [
        "Create and assign variables to store this person's information (name, age, position and salary)."
      ]
    },
    {
      "cell_type": "code",
      "execution_count": null,
      "id": "c82ab750-42b1-4942-9126-e78858848259",
      "metadata": {
        "colab": {
          "base_uri": "https://localhost:8080/"
        },
        "id": "c82ab750-42b1-4942-9126-e78858848259",
        "outputId": "1c9d7be7-fc09-4a06-f7ca-c07c55f37afe"
      },
      "outputs": [
        {
          "output_type": "stream",
          "name": "stdout",
          "text": [
            "John Doe\n",
            "29\n",
            "System Engineer\n",
            "฿41500.00\n"
          ]
        }
      ],
      "source": [
        "name = \"John Doe\"\n",
        "age = 29\n",
        "position = \"System Engineer\"\n",
        "salary = 41500.00\n",
        "\n",
        "print(name)\n",
        "print(age)\n",
        "print(position)\n",
        "print(\"฿{:.2f}\".format(salary))"
      ]
    },
    {
      "cell_type": "markdown",
      "id": "5276310d-91d8-462a-855f-713c14a399b3",
      "metadata": {
        "id": "5276310d-91d8-462a-855f-713c14a399b3"
      },
      "source": [
        "What is the type of each variables?"
      ]
    },
    {
      "cell_type": "code",
      "execution_count": null,
      "id": "51ff9507-b6ed-4fc9-bae8-32679f0ffe0f",
      "metadata": {
        "colab": {
          "base_uri": "https://localhost:8080/"
        },
        "id": "51ff9507-b6ed-4fc9-bae8-32679f0ffe0f",
        "outputId": "db6ef4ce-d53f-4d8a-eb07-f57a2557fa48"
      },
      "outputs": [
        {
          "output_type": "stream",
          "name": "stdout",
          "text": [
            "<class 'str'>\n",
            "<class 'int'>\n",
            "<class 'str'>\n",
            "<class 'float'>\n"
          ]
        }
      ],
      "source": [
        "print(type(name))\n",
        "print(type(age))\n",
        "print(type(position))\n",
        "print(type(salary))"
      ]
    },
    {
      "cell_type": "markdown",
      "id": "e9af1002-80de-4b0b-aa53-4c555f270349",
      "metadata": {
        "id": "e9af1002-80de-4b0b-aa53-4c555f270349"
      },
      "source": [
        "The manager decides to give John a 7% raise. Update his salary."
      ]
    },
    {
      "cell_type": "code",
      "execution_count": null,
      "id": "aacfb035-65b9-47b5-9980-19ea9e325051",
      "metadata": {
        "colab": {
          "base_uri": "https://localhost:8080/"
        },
        "id": "aacfb035-65b9-47b5-9980-19ea9e325051",
        "outputId": "26ebce14-b6aa-4710-d4ff-e18e19bbbb8f"
      },
      "outputs": [
        {
          "output_type": "stream",
          "name": "stdout",
          "text": [
            "Updated Salary: ฿44405.00\n"
          ]
        }
      ],
      "source": [
        "raise_salary = salary * 1.07\n",
        "print(\"Updated Salary: ฿{:.2f}\".format(raise_salary))"
      ]
    },
    {
      "cell_type": "markdown",
      "id": "b38d04d0-c43b-44c5-9a37-11d7a768a124",
      "metadata": {
        "id": "b38d04d0-c43b-44c5-9a37-11d7a768a124"
      },
      "source": [
        "Prints his information again with his new salary."
      ]
    },
    {
      "cell_type": "code",
      "execution_count": null,
      "id": "04699250-3a2e-43e4-a84c-2a5cbcf38c36",
      "metadata": {
        "colab": {
          "base_uri": "https://localhost:8080/"
        },
        "id": "04699250-3a2e-43e4-a84c-2a5cbcf38c36",
        "outputId": "df3576ac-1e9b-4f34-acbf-41a6a517d740"
      },
      "outputs": [
        {
          "output_type": "stream",
          "name": "stdout",
          "text": [
            "John Doe\n",
            "29\n",
            "System Engineer\n",
            "฿44405.00\n"
          ]
        }
      ],
      "source": [
        "print(name)\n",
        "print(age)\n",
        "print(position)\n",
        "print(\"฿{:.2f}\".format(raise_salary))"
      ]
    },
    {
      "cell_type": "markdown",
      "id": "590d49a7-eac2-434b-b73f-af1d2f13cca6",
      "metadata": {
        "id": "590d49a7-eac2-434b-b73f-af1d2f13cca6"
      },
      "source": [
        "Now, he decides to resign. Delete his information from the system."
      ]
    },
    {
      "cell_type": "code",
      "execution_count": null,
      "id": "f7f06b90-67cf-4e04-be79-deb29cfabdb1",
      "metadata": {
        "id": "f7f06b90-67cf-4e04-be79-deb29cfabdb1"
      },
      "outputs": [],
      "source": [
        "\n",
        "del name\n",
        "del age\n",
        "del position\n",
        "del raise_salary\n"
      ]
    },
    {
      "cell_type": "markdown",
      "id": "077aee58-d6d1-4262-bef9-4e9a9a82a800",
      "metadata": {
        "id": "077aee58-d6d1-4262-bef9-4e9a9a82a800"
      },
      "source": [
        "## 2. Variable and Expression"
      ]
    },
    {
      "cell_type": "markdown",
      "id": "af79a9e3-db50-456c-841e-eef66ef246a9",
      "metadata": {
        "id": "af79a9e3-db50-456c-841e-eef66ef246a9"
      },
      "source": [
        "**2.1** Write a code to convert temperature unit from celcius to other units"
      ]
    },
    {
      "cell_type": "code",
      "execution_count": null,
      "id": "8dfd591f-41f0-4b73-b770-fbcf60eb983a",
      "metadata": {
        "id": "8dfd591f-41f0-4b73-b770-fbcf60eb983a"
      },
      "outputs": [],
      "source": [
        "C = 34.5"
      ]
    },
    {
      "cell_type": "markdown",
      "id": "afd0633b-76ca-4ab8-b61c-7e1f8fdf724b",
      "metadata": {
        "id": "afd0633b-76ca-4ab8-b61c-7e1f8fdf724b"
      },
      "source": [
        "**Fahrenheit**  \n",
        "#### $\\frac{C}{5} = \\frac{F-32}{9}$"
      ]
    },
    {
      "cell_type": "code",
      "execution_count": null,
      "id": "93e1649c-5724-4842-b121-82bdd2922a1b",
      "metadata": {
        "id": "93e1649c-5724-4842-b121-82bdd2922a1b"
      },
      "outputs": [],
      "source": [
        "F = 94.1"
      ]
    },
    {
      "cell_type": "code",
      "source": [
        "celcius = 34.5\n",
        "fahrenheit = (celcius*9/5)+32\n",
        "\n",
        "print(fahrenheit)"
      ],
      "metadata": {
        "colab": {
          "base_uri": "https://localhost:8080/"
        },
        "id": "iWaR7brBzQ91",
        "outputId": "c41f580c-5a25-4c34-9db3-719c2a4c5842"
      },
      "id": "iWaR7brBzQ91",
      "execution_count": null,
      "outputs": [
        {
          "output_type": "stream",
          "name": "stdout",
          "text": [
            "94.1\n"
          ]
        }
      ]
    },
    {
      "cell_type": "markdown",
      "source": [],
      "metadata": {
        "id": "Jdw8xf8XzOZe"
      },
      "id": "Jdw8xf8XzOZe"
    },
    {
      "cell_type": "markdown",
      "id": "05017521-6d16-4d65-a100-e9c94e49f9d6",
      "metadata": {
        "id": "05017521-6d16-4d65-a100-e9c94e49f9d6"
      },
      "source": [
        "**Kelvin**  \n",
        "$K = C + 273.15$"
      ]
    },
    {
      "cell_type": "code",
      "execution_count": null,
      "id": "0790d13f-3a85-4bb7-b341-3796e7d81816",
      "metadata": {
        "id": "0790d13f-3a85-4bb7-b341-3796e7d81816"
      },
      "outputs": [],
      "source": [
        "K = 307.65"
      ]
    },
    {
      "cell_type": "code",
      "source": [
        "kelvin = (celcius+273.15)\n",
        "\n",
        "print(kelvin)"
      ],
      "metadata": {
        "colab": {
          "base_uri": "https://localhost:8080/"
        },
        "id": "KfLMlt6qz_9O",
        "outputId": "a9f55976-7b1b-47fd-e5cf-5325b129bb1a"
      },
      "id": "KfLMlt6qz_9O",
      "execution_count": null,
      "outputs": [
        {
          "output_type": "stream",
          "name": "stdout",
          "text": [
            "307.65\n"
          ]
        }
      ]
    },
    {
      "cell_type": "markdown",
      "id": "3aafb9c3-7135-4730-9f72-41919a7bf8aa",
      "metadata": {
        "id": "3aafb9c3-7135-4730-9f72-41919a7bf8aa"
      },
      "source": [
        "**Rømer**  \n",
        "#### $Ro = \\frac{C \\times 21}{40} + 7.5$"
      ]
    },
    {
      "cell_type": "code",
      "execution_count": null,
      "id": "f77ad9dd-966e-4e6e-974e-64f1796f9d2e",
      "metadata": {
        "id": "f77ad9dd-966e-4e6e-974e-64f1796f9d2e"
      },
      "outputs": [],
      "source": [
        "Ro = 25.6125"
      ]
    },
    {
      "cell_type": "code",
      "source": [
        "romer = (celcius*21/40)+7.5\n",
        "\n",
        "print(romer)"
      ],
      "metadata": {
        "colab": {
          "base_uri": "https://localhost:8080/"
        },
        "id": "TrDwIsLu0W3-",
        "outputId": "34cb065c-a963-4ce1-fc37-2c15ffd79972"
      },
      "id": "TrDwIsLu0W3-",
      "execution_count": null,
      "outputs": [
        {
          "output_type": "stream",
          "name": "stdout",
          "text": [
            "25.6125\n"
          ]
        }
      ]
    },
    {
      "cell_type": "markdown",
      "id": "46be05e7-89f8-4461-989d-017343872b4a",
      "metadata": {
        "tags": [],
        "id": "46be05e7-89f8-4461-989d-017343872b4a"
      },
      "source": [
        "## 3. Multi-item variables\n",
        "#### List"
      ]
    },
    {
      "cell_type": "code",
      "execution_count": null,
      "id": "bcf35687-0b65-4958-ac2b-e24627ef68d1",
      "metadata": {
        "id": "bcf35687-0b65-4958-ac2b-e24627ef68d1"
      },
      "outputs": [],
      "source": [
        "names = ['Thomas', 'Kate', 'Mike', 'Amelia', 'James', 'Megan']"
      ]
    },
    {
      "cell_type": "markdown",
      "id": "448e0cac-5140-4c01-ae36-6483e68d538b",
      "metadata": {
        "id": "448e0cac-5140-4c01-ae36-6483e68d538b"
      },
      "source": [
        "Create new variable call `new_name` which takes input name of the user."
      ]
    },
    {
      "cell_type": "code",
      "execution_count": null,
      "id": "ae8b5b8e-5718-4d6b-923d-8d3c1562c845",
      "metadata": {
        "colab": {
          "base_uri": "https://localhost:8080/"
        },
        "id": "ae8b5b8e-5718-4d6b-923d-8d3c1562c845",
        "outputId": "429242b6-133b-45af-dc85-143ce0146008"
      },
      "outputs": [
        {
          "name": "stdout",
          "output_type": "stream",
          "text": [
            "Enter your name: Nonpitch\n"
          ]
        }
      ],
      "source": [
        "new_name = input('Enter your name: ')"
      ]
    },
    {
      "cell_type": "markdown",
      "id": "46726149-c092-45ab-ae91-a3505ff28f81",
      "metadata": {
        "id": "46726149-c092-45ab-ae91-a3505ff28f81"
      },
      "source": [
        "Insert `new_name` into `names` list."
      ]
    },
    {
      "cell_type": "code",
      "execution_count": null,
      "id": "4f757eb7-5658-490e-b523-cb1c880db7fd",
      "metadata": {
        "colab": {
          "base_uri": "https://localhost:8080/"
        },
        "id": "4f757eb7-5658-490e-b523-cb1c880db7fd",
        "outputId": "dddd094e-3786-4bba-8033-5d7e0f39495d"
      },
      "outputs": [
        {
          "output_type": "stream",
          "name": "stdout",
          "text": [
            "['Thomas', 'Kate', 'Mike', 'Amelia', 'James', 'Megan', 'Nonpitch', 'Nonpitch']\n"
          ]
        }
      ],
      "source": [
        "names.append(new_name)\n",
        "\n",
        "print(names)\n"
      ]
    },
    {
      "cell_type": "markdown",
      "id": "4600f46e-4a21-41f7-a4b1-00e5921e134b",
      "metadata": {
        "id": "4600f46e-4a21-41f7-a4b1-00e5921e134b"
      },
      "source": [
        "Select your name from the list"
      ]
    },
    {
      "cell_type": "code",
      "execution_count": null,
      "id": "cbae27d8-6dda-45ae-9839-6513d1086384",
      "metadata": {
        "colab": {
          "base_uri": "https://localhost:8080/"
        },
        "id": "cbae27d8-6dda-45ae-9839-6513d1086384",
        "outputId": "c4c6c942-a97c-4cb0-e453-d11176c3a50f"
      },
      "outputs": [
        {
          "output_type": "stream",
          "name": "stdout",
          "text": [
            "['Nonpitch']\n"
          ]
        }
      ],
      "source": [
        "print(names[7:])"
      ]
    },
    {
      "cell_type": "markdown",
      "id": "5114e655-d67e-428b-a179-1ef8cec4da28",
      "metadata": {
        "id": "5114e655-d67e-428b-a179-1ef8cec4da28"
      },
      "source": [
        "Merge `another_names` into `names`."
      ]
    },
    {
      "cell_type": "code",
      "execution_count": null,
      "id": "330ecf29-1771-427d-a16f-f515994c617c",
      "metadata": {
        "id": "330ecf29-1771-427d-a16f-f515994c617c"
      },
      "outputs": [],
      "source": [
        "another_names = ['Peter', 'Steve', 'Sam', 'Charlotte']"
      ]
    },
    {
      "cell_type": "code",
      "execution_count": null,
      "id": "35bd286b-2303-45a4-90ec-17a84d1a91c6",
      "metadata": {
        "colab": {
          "base_uri": "https://localhost:8080/"
        },
        "id": "35bd286b-2303-45a4-90ec-17a84d1a91c6",
        "outputId": "a2cce81e-da64-404b-d5f6-2e22f1c82f36"
      },
      "outputs": [
        {
          "output_type": "stream",
          "name": "stdout",
          "text": [
            "['Thomas', 'Kate', 'Mike', 'Amelia', 'James', 'Megan', 'Nonpitch', 'Nonpitch', 'Peter', 'Steve', 'Sam', 'Charlotte']\n"
          ]
        }
      ],
      "source": [
        "print(names + another_names)"
      ]
    },
    {
      "cell_type": "markdown",
      "id": "8326fcba-7997-42b4-979e-ef7dee45c1d4",
      "metadata": {
        "id": "8326fcba-7997-42b4-979e-ef7dee45c1d4"
      },
      "source": [
        "Change `Amelia`'s name to `Amy`"
      ]
    },
    {
      "cell_type": "code",
      "execution_count": null,
      "id": "feb53ff6-f95e-43ac-9302-d4097bdeb123",
      "metadata": {
        "colab": {
          "base_uri": "https://localhost:8080/"
        },
        "id": "feb53ff6-f95e-43ac-9302-d4097bdeb123",
        "outputId": "fe177762-956f-40e7-f139-b9be927bf235"
      },
      "outputs": [
        {
          "output_type": "stream",
          "name": "stdout",
          "text": [
            "['Thomas', 'Kate', 'Mike', 'Amy', 'James', 'Megan', 'Nonpitch', 'Nonpitch']\n"
          ]
        }
      ],
      "source": [
        "names[3] = \"Amy\"\n",
        "\n",
        "print(names)\n"
      ]
    },
    {
      "cell_type": "markdown",
      "id": "eb232f36-b03a-4666-a8be-11f6493ddda3",
      "metadata": {
        "id": "eb232f36-b03a-4666-a8be-11f6493ddda3"
      },
      "source": [
        "#### Dictionary"
      ]
    },
    {
      "cell_type": "code",
      "execution_count": null,
      "id": "c7784413-7700-438d-9bae-e264327f16eb",
      "metadata": {
        "id": "c7784413-7700-438d-9bae-e264327f16eb"
      },
      "outputs": [],
      "source": [
        "capital_city = {'England':'London',\n",
        "                'Spain':'Madrid',\n",
        "                'Japan':'Tokyo',\n",
        "                'Australia':'Sydney',\n",
        "                'Germany':'Berlin',\n",
        "               }"
      ]
    },
    {
      "cell_type": "markdown",
      "id": "4a1424d4-8955-455d-9bda-ddc573c50307",
      "metadata": {
        "id": "4a1424d4-8955-455d-9bda-ddc573c50307"
      },
      "source": [
        "Add a record `Thailand` and it's capital city to this dictionary"
      ]
    },
    {
      "cell_type": "code",
      "execution_count": null,
      "id": "d7134edd-6732-4c37-9b69-28c02579c74f",
      "metadata": {
        "colab": {
          "base_uri": "https://localhost:8080/"
        },
        "id": "d7134edd-6732-4c37-9b69-28c02579c74f",
        "outputId": "523db88c-cab7-4c46-9e28-6d19ce70cd16"
      },
      "outputs": [
        {
          "output_type": "stream",
          "name": "stdout",
          "text": [
            "{'England': 'London', 'Spain': 'Madrid', 'Japan': 'Tokyo', 'Australia': 'Sydney', 'Germany': 'Berlin', 'Thailand': 'Bangkok'}\n"
          ]
        }
      ],
      "source": [
        "capital_city['Thailand'] = 'Bangkok'\n",
        "\n",
        "print(capital_city)"
      ]
    },
    {
      "cell_type": "markdown",
      "id": "442728cb-9f2d-472b-8909-987996e176cb",
      "metadata": {
        "id": "442728cb-9f2d-472b-8909-987996e176cb"
      },
      "source": [
        "You may notice that the capital city of `Australia` is wrong. It should be `Canberra`. Correct this mistake."
      ]
    },
    {
      "cell_type": "code",
      "execution_count": null,
      "id": "e9c689e8-ad32-4ddd-9e33-8025d2b8fa00",
      "metadata": {
        "jp-MarkdownHeadingCollapsed": true,
        "tags": [],
        "colab": {
          "base_uri": "https://localhost:8080/"
        },
        "id": "e9c689e8-ad32-4ddd-9e33-8025d2b8fa00",
        "outputId": "e2761471-dacc-437d-9561-7e16fe4dd10a"
      },
      "outputs": [
        {
          "output_type": "stream",
          "name": "stdout",
          "text": [
            "{'England': 'London', 'Spain': 'Madrid', 'Japan': 'Tokyo', 'Australia': 'Canberra', 'Germany': 'Berlin', 'Thailand': 'Bangkok'}\n"
          ]
        }
      ],
      "source": [
        "capital_city['Australia'] = 'Canberra'\n",
        "\n",
        "print(capital_city)"
      ]
    },
    {
      "cell_type": "markdown",
      "id": "47de81e4-3a74-40ba-b383-4d9a4ba8a240",
      "metadata": {
        "id": "47de81e4-3a74-40ba-b383-4d9a4ba8a240"
      },
      "source": [
        "## 4. Control Flows and conditional statements"
      ]
    },
    {
      "cell_type": "markdown",
      "id": "26875311-407e-403d-9fdb-f8ded74f4926",
      "metadata": {
        "id": "26875311-407e-403d-9fdb-f8ded74f4926"
      },
      "source": [
        "### if...elif...else"
      ]
    },
    {
      "cell_type": "markdown",
      "id": "ef7bc755-efcd-45c5-a8e4-446724231dd1",
      "metadata": {
        "id": "ef7bc755-efcd-45c5-a8e4-446724231dd1"
      },
      "source": [
        "**1.** Define a variable to get input age from user."
      ]
    },
    {
      "cell_type": "code",
      "execution_count": null,
      "id": "908ab4b9-4452-4558-9dfa-33aba76e683c",
      "metadata": {
        "colab": {
          "base_uri": "https://localhost:8080/"
        },
        "id": "908ab4b9-4452-4558-9dfa-33aba76e683c",
        "outputId": "4f1446f5-97bf-4cca-b37a-7befd92c2fee"
      },
      "outputs": [
        {
          "name": "stdout",
          "output_type": "stream",
          "text": [
            "Your age: 19\n"
          ]
        }
      ],
      "source": [
        "age = int(input(\"Your age: \"))"
      ]
    },
    {
      "cell_type": "markdown",
      "id": "92ee554c-f82d-4ad6-80ae-6d095b6eca2d",
      "metadata": {
        "id": "92ee554c-f82d-4ad6-80ae-6d095b6eca2d"
      },
      "source": [
        "Write a series of if...elif...else statement that categorize input age into following groups:\n",
        "> Babies: 0-2 years old  \n",
        "Children: 3-12 years old  \n",
        "Teenager: 13-19 years old  \n",
        "Young Adults: 20-29 years old  \n",
        "Middle-aged Adults: 30-45 years old  \n",
        "Old Adult: 46-59 years old  \n",
        "Elderly: Above 60 years old  "
      ]
    },
    {
      "cell_type": "code",
      "execution_count": null,
      "id": "77dc4105-8e3f-49da-932a-82611fd9dd8d",
      "metadata": {
        "colab": {
          "base_uri": "https://localhost:8080/"
        },
        "id": "77dc4105-8e3f-49da-932a-82611fd9dd8d",
        "outputId": "786d92c5-18c5-436b-dec0-4741da35b7ab"
      },
      "outputs": [
        {
          "output_type": "stream",
          "name": "stdout",
          "text": [
            "You are: Teenager\n"
          ]
        }
      ],
      "source": [
        "if 0<=age<=2:\n",
        "  group = \"Babies\"\n",
        "elif 3<=age<=12:\n",
        "  group = \"Children\"\n",
        "elif 13<=age<=19:\n",
        "  group = \"Teenager\"\n",
        "elif 20<=age<=29:\n",
        "  group = \"Young Adults\"\n",
        "elif 30<=age<=45:\n",
        "  group = \"Middle-aged Adults\"\n",
        "elif 46<=age<=59:\n",
        "  group = \"Old Adult\"\n",
        "elif age>=60:\n",
        "  group = \"Elderly\"\n",
        "\n",
        "print(\"You are:\", group)"
      ]
    },
    {
      "cell_type": "markdown",
      "id": "c5713324-a3ea-46f9-9cd3-b3bbfa754ae7",
      "metadata": {
        "id": "c5713324-a3ea-46f9-9cd3-b3bbfa754ae7"
      },
      "source": [
        "### Looping"
      ]
    },
    {
      "cell_type": "markdown",
      "id": "93f2d88b-535e-4446-a81c-26d99ecedaaf",
      "metadata": {
        "id": "93f2d88b-535e-4446-a81c-26d99ecedaaf"
      },
      "source": [
        "**1.** Write a code to create a multiplication table of an input number (multiplier from 1-12)."
      ]
    },
    {
      "cell_type": "code",
      "execution_count": null,
      "id": "edea70e8-9bb0-46f1-9234-5b7c78c5038e",
      "metadata": {
        "colab": {
          "base_uri": "https://localhost:8080/"
        },
        "id": "edea70e8-9bb0-46f1-9234-5b7c78c5038e",
        "outputId": "48005a1b-3345-4b74-d0ab-0fd49d99140d"
      },
      "outputs": [
        {
          "output_type": "stream",
          "name": "stdout",
          "text": [
            "Input a number: 4\n",
            "4 * 1 = 4\n",
            "4 * 2 = 8\n",
            "4 * 3 = 12\n",
            "4 * 4 = 16\n",
            "4 * 5 = 20\n",
            "4 * 6 = 24\n",
            "4 * 7 = 28\n",
            "4 * 8 = 32\n",
            "4 * 9 = 36\n",
            "4 * 10 = 40\n",
            "4 * 11 = 44\n",
            "4 * 12 = 48\n"
          ]
        }
      ],
      "source": [
        "number = int(input(\"Input a number: \"))\n",
        "\n",
        "for i in range(1, 13):\n",
        "    ans = number*i\n",
        "    print(f\"{number} * {i} = {ans}\")"
      ]
    },
    {
      "cell_type": "markdown",
      "id": "344ae7de-0986-416d-a86d-31f739a4df7a",
      "metadata": {
        "id": "344ae7de-0986-416d-a86d-31f739a4df7a"
      },
      "source": [
        "**2.** Write a code that construct the following pattern.  "
      ]
    },
    {
      "cell_type": "raw",
      "id": "16aa5fe5-2651-4c06-9481-314df81a2d49",
      "metadata": {
        "id": "16aa5fe5-2651-4c06-9481-314df81a2d49"
      },
      "source": [
        "input: 5\n",
        "output:\n",
        "*\n",
        "**\n",
        "***\n",
        "****\n",
        "*****"
      ]
    },
    {
      "cell_type": "code",
      "execution_count": null,
      "id": "05671650-e184-4f5e-b17a-3e3f44a563e9",
      "metadata": {
        "colab": {
          "base_uri": "https://localhost:8080/"
        },
        "id": "05671650-e184-4f5e-b17a-3e3f44a563e9",
        "outputId": "1668ebfe-ce73-4c62-9fbc-68afd0599044"
      },
      "outputs": [
        {
          "output_type": "stream",
          "name": "stdout",
          "text": [
            "input: 5\n",
            "output:\n",
            "*\n",
            "**\n",
            "***\n",
            "****\n",
            "*****\n"
          ]
        }
      ],
      "source": [
        "rows = int(input(\"input: \"))\n",
        "\n",
        "print(\"output:\")\n",
        "for i in range(1, rows+1):\n",
        "  print(\"*\" * i)"
      ]
    },
    {
      "cell_type": "markdown",
      "id": "591e6802-3d1c-450c-96ff-17bb703cff34",
      "metadata": {
        "id": "591e6802-3d1c-450c-96ff-17bb703cff34"
      },
      "source": [
        "**3.** Creates a loop to print `I love <programming language>!` except for Assembly, print `Not you, Assembly`."
      ]
    },
    {
      "cell_type": "code",
      "execution_count": 5,
      "id": "27ae77b1-cca1-45b0-853f-458bad532661",
      "metadata": {
        "id": "27ae77b1-cca1-45b0-853f-458bad532661"
      },
      "outputs": [],
      "source": [
        "languages = ['C/C++', 'Python', 'R', 'Java', 'SQLs', 'Assembly', 'Go', 'Rust', 'Kotlin']"
      ]
    },
    {
      "cell_type": "code",
      "execution_count": 8,
      "id": "f94fb0d3-1482-403d-a4d2-245191c75931",
      "metadata": {
        "colab": {
          "base_uri": "https://localhost:8080/"
        },
        "id": "f94fb0d3-1482-403d-a4d2-245191c75931",
        "outputId": "ee740727-2b2e-4f03-819b-eb4003e285be"
      },
      "outputs": [
        {
          "output_type": "stream",
          "name": "stdout",
          "text": [
            "I love C/C++\n",
            "I love Python\n",
            "I love R\n",
            "I love Java\n",
            "I love SQLs\n",
            "Not you, Assembly\n",
            "I love Go\n",
            "I love Rust\n",
            "I love Kotlin\n"
          ]
        }
      ],
      "source": [
        "for code_lang in languages:\n",
        "  if code_lang == 'Assembly':\n",
        "    print(\"Not you, Assembly\")\n",
        "  else:\n",
        "    print(\"I love\", code_lang)"
      ]
    },
    {
      "cell_type": "markdown",
      "id": "b6e64546-269f-4b47-a1f3-d91bde2156c5",
      "metadata": {
        "id": "b6e64546-269f-4b47-a1f3-d91bde2156c5"
      },
      "source": [
        "**4.** Write a code to print every number from 1 to 25 except the one that is divisible by 3."
      ]
    },
    {
      "cell_type": "code",
      "execution_count": null,
      "id": "d09b0d6d-0245-4137-a160-1c7d5d5b7d52",
      "metadata": {
        "colab": {
          "base_uri": "https://localhost:8080/"
        },
        "id": "d09b0d6d-0245-4137-a160-1c7d5d5b7d52",
        "outputId": "4afb501f-93b8-476d-bbdc-eeeaf4dcbb7c"
      },
      "outputs": [
        {
          "output_type": "stream",
          "name": "stdout",
          "text": [
            "1\n",
            "2\n",
            "4\n",
            "5\n",
            "7\n",
            "8\n",
            "10\n",
            "11\n",
            "13\n",
            "14\n",
            "16\n",
            "17\n",
            "19\n",
            "20\n",
            "22\n",
            "23\n",
            "25\n"
          ]
        }
      ],
      "source": [
        "for i in range(1, 26):\n",
        "  if i%3 == 0:\n",
        "    continue\n",
        "  else:\n",
        "    print(i)"
      ]
    },
    {
      "cell_type": "markdown",
      "id": "96121e50-14d1-422c-855d-6b0f4df8d1ce",
      "metadata": {
        "id": "96121e50-14d1-422c-855d-6b0f4df8d1ce"
      },
      "source": [
        "**5.** Write a code that finds the number that is divisible by 7 in a given range."
      ]
    },
    {
      "cell_type": "code",
      "execution_count": null,
      "id": "b161d861-2250-48d1-a348-66a8616de8ca",
      "metadata": {
        "id": "b161d861-2250-48d1-a348-66a8616de8ca"
      },
      "outputs": [],
      "source": [
        "lower_bound = 1\n",
        "upper_bound = 100\n",
        "divisor = 7\n",
        "\n",
        "result = []"
      ]
    },
    {
      "cell_type": "code",
      "execution_count": null,
      "id": "0ee01cfb-bbe2-482e-a7fd-cbcb0b444657",
      "metadata": {
        "colab": {
          "base_uri": "https://localhost:8080/"
        },
        "id": "0ee01cfb-bbe2-482e-a7fd-cbcb0b444657",
        "outputId": "53a56590-ffb7-4801-fe98-d046f7381b3c"
      },
      "outputs": [
        {
          "output_type": "stream",
          "name": "stdout",
          "text": [
            "7\n",
            "14\n",
            "21\n",
            "28\n",
            "35\n",
            "42\n",
            "49\n",
            "56\n",
            "63\n",
            "70\n",
            "77\n",
            "84\n",
            "91\n",
            "98\n"
          ]
        }
      ],
      "source": [
        "for i in range(1, 101):\n",
        "  if i%7 == 0:\n",
        "    print(i)"
      ]
    },
    {
      "cell_type": "markdown",
      "id": "5f79cd06-9c78-4d92-9c81-962ea26148e1",
      "metadata": {
        "id": "5f79cd06-9c78-4d92-9c81-962ea26148e1"
      },
      "source": [
        "**6.** Write a code that construct the following pattern.  "
      ]
    },
    {
      "cell_type": "code",
      "execution_count": null,
      "id": "f8583076-5656-4e2f-8615-7da2ddda7fd9",
      "metadata": {
        "id": "f8583076-5656-4e2f-8615-7da2ddda7fd9"
      },
      "outputs": [],
      "source": [
        "input: 5\n",
        "output:\n",
        "*#####\n",
        "**####\n",
        "***###\n",
        "****##\n",
        "*****#\n",
        "\n",
        "input: 10\n",
        "output:\n",
        "*##########\n",
        "**#########\n",
        "***########\n",
        "****#######\n",
        "*****######\n",
        "******#####\n",
        "*******####\n",
        "********###\n",
        "*********##\n",
        "**********#"
      ]
    },
    {
      "cell_type": "code",
      "execution_count": 9,
      "id": "e7ef0bd3-eb14-406a-842f-63716252ec26",
      "metadata": {
        "colab": {
          "base_uri": "https://localhost:8080/"
        },
        "id": "e7ef0bd3-eb14-406a-842f-63716252ec26",
        "outputId": "a4985205-3c0e-4f93-8830-863a93d22547"
      },
      "outputs": [
        {
          "output_type": "stream",
          "name": "stdout",
          "text": [
            "input: 5\n",
            "*#####\n",
            "**####\n",
            "***###\n",
            "****##\n",
            "*****#\n"
          ]
        }
      ],
      "source": [
        "num = int(input(\"input: \"))\n",
        "\n",
        "for i in range(1, num+1):\n",
        "  print(\"*\"*i + \"#\"*num)\n",
        "  num = num-1"
      ]
    },
    {
      "cell_type": "markdown",
      "id": "aff11c81-82c8-4ac5-950e-9f8fc7e75717",
      "metadata": {
        "id": "aff11c81-82c8-4ac5-950e-9f8fc7e75717"
      },
      "source": [
        "## 5. Functions"
      ]
    },
    {
      "cell_type": "markdown",
      "id": "a9494a61-60d0-46dc-bfb6-9732cf2db524",
      "metadata": {
        "id": "a9494a61-60d0-46dc-bfb6-9732cf2db524"
      },
      "source": [
        "**1.** Define a function `average` that takes arbitrary number of arguments and calculate the mean of input."
      ]
    },
    {
      "cell_type": "code",
      "execution_count": null,
      "id": "4a7e53c3-c56e-4c12-96f6-090fdfffcfa7",
      "metadata": {
        "colab": {
          "base_uri": "https://localhost:8080/"
        },
        "id": "4a7e53c3-c56e-4c12-96f6-090fdfffcfa7",
        "outputId": "b8e54f1f-df59-4a2e-e971-4c5e238400c4"
      },
      "outputs": [
        {
          "output_type": "stream",
          "name": "stdout",
          "text": [
            "input numbers by space: 2 5 6 7\n",
            "average:  5.0\n"
          ]
        }
      ],
      "source": [
        "def average(numbers):\n",
        "    return sum(numbers) / len(numbers) if numbers else None\n",
        "\n",
        "user_input = input(\"input numbers by space: \")\n",
        "numbers = [float(num) for num in user_input.split()]\n",
        "mean = average(numbers)\n",
        "print(\"average: \", mean)"
      ]
    },
    {
      "cell_type": "markdown",
      "id": "b3518966-bb87-4045-ac93-a44dd659fdf2",
      "metadata": {
        "id": "b3518966-bb87-4045-ac93-a44dd659fdf2"
      },
      "source": [
        "**2.** Define a function `sumproduct` that takes 2 equal-sized lists and calculate sum of the products of two lists.  \n",
        "It should look like this:  \n",
        "> sumproduct([1,2,3],[4,5,6])  \n",
        "output: 32"
      ]
    },
    {
      "cell_type": "markdown",
      "id": "b8cc65c3-d723-4150-915f-50952b6c89b5",
      "metadata": {
        "id": "b8cc65c3-d723-4150-915f-50952b6c89b5"
      },
      "source": [
        "(1 * 4) + (2 * 5) + (3 * 6) = 32"
      ]
    },
    {
      "cell_type": "code",
      "execution_count": null,
      "id": "5ee40a62-62c2-4c32-b443-be74c4561633",
      "metadata": {
        "colab": {
          "base_uri": "https://localhost:8080/"
        },
        "id": "5ee40a62-62c2-4c32-b443-be74c4561633",
        "outputId": "7fc65bdd-9dd8-4070-9100-af2edb15f346"
      },
      "outputs": [
        {
          "output_type": "stream",
          "name": "stdout",
          "text": [
            "output:  32\n"
          ]
        }
      ],
      "source": [
        "def sumproduct(list1, list2):\n",
        "  if len(list1) != len(list2):\n",
        "    return None\n",
        "  else:\n",
        "    return sum(x*y for x,y in zip(list1, list2))\n",
        "\n",
        "ans = sumproduct([1,2,3],[4,5,6])\n",
        "print(\"output: \", ans)"
      ]
    },
    {
      "cell_type": "markdown",
      "id": "fa9e1ec4-f283-4914-97b6-1c3c7e4559b3",
      "metadata": {
        "id": "fa9e1ec4-f283-4914-97b6-1c3c7e4559b3"
      },
      "source": [
        "**3.** Define a function `fibonacci` that returns Fibonacci number at `n` position.  \n",
        "A Fibonacci number at position `n` is defined by `F(n) = F(n-1) + F(n-2)`. Where `F(0) = 0` and `F(1) = 1`  \n",
        "**Example:** `0, 1, 1, 2, 3, 5, 8, 13, 21, 34, 55, 89, 144, ...`  "
      ]
    },
    {
      "cell_type": "code",
      "execution_count": null,
      "id": "be842d69-614f-4a99-92b3-06546ecfad8a",
      "metadata": {
        "colab": {
          "base_uri": "https://localhost:8080/"
        },
        "id": "be842d69-614f-4a99-92b3-06546ecfad8a",
        "outputId": "76dcb190-8de3-4bb4-a3e0-e96164885e23"
      },
      "outputs": [
        {
          "output_type": "stream",
          "name": "stdout",
          "text": [
            "position: 8\n",
            "Fibonacci number at 8 position: 21\n"
          ]
        }
      ],
      "source": [
        "def fibonacci(n):\n",
        "  if n == 0:\n",
        "    return 0\n",
        "  elif n == 1:\n",
        "    return 1\n",
        "  else:\n",
        "    return fibonacci(n-1) + fibonacci(n-2)\n",
        "\n",
        "position = int(input(\"position: \"))\n",
        "ans = fibonacci(position)\n",
        "print(f\"Fibonacci number at {position} position:\", ans)"
      ]
    },
    {
      "cell_type": "markdown",
      "id": "0fe45b53-d936-4f0f-a8fd-c1e0e62206d5",
      "metadata": {
        "id": "0fe45b53-d936-4f0f-a8fd-c1e0e62206d5"
      },
      "source": [
        "**4.** Define a function `is_palindrome` that takes input string and check whether it is a palindrome or not.  \n",
        "A string is a palindrome if it reads the same forward and backwards.  \n",
        "**Example:** `madam`, `race car`, `borrow or rob`, `amore roma`, `never odd or even`  \n",
        "Do not consider whitespace. Use `str.replace(' ', '')` to remove whitespace from your string.  \n",
        "Case-insensitive. You can turn everything into lower or uppercase using `str.lower()` or `str.upper()`  \n",
        "**Hint:** you can reverse the string using `[::-1]` slice."
      ]
    },
    {
      "cell_type": "code",
      "execution_count": null,
      "id": "94112078-1914-4892-bae3-27b8296bb901",
      "metadata": {
        "id": "94112078-1914-4892-bae3-27b8296bb901"
      },
      "outputs": [],
      "source": [
        "str1 = \"radar\" # palindrome\n",
        "str2 = \"rotator\" # palindrome\n",
        "str3 = \"lemon\" # not palindrome"
      ]
    },
    {
      "cell_type": "code",
      "execution_count": null,
      "id": "247b2d87-cd37-4389-a304-59a4229be2ff",
      "metadata": {
        "colab": {
          "base_uri": "https://localhost:8080/"
        },
        "id": "247b2d87-cd37-4389-a304-59a4229be2ff",
        "outputId": "af722936-68cc-42ba-93b2-cc8e0111a589"
      },
      "outputs": [
        {
          "output_type": "stream",
          "name": "stdout",
          "text": [
            "input a string: 404\n",
            "404 is a palindrome\n"
          ]
        }
      ],
      "source": [
        "def is_palindrome(input_str):\n",
        "    removed_str = input_str.replace(' ', '').lower()\n",
        "    return removed_str == removed_str[::-1]\n",
        "\n",
        "user_input = input(\"input a string: \")\n",
        "result = is_palindrome(user_input)\n",
        "\n",
        "print(f\"{user_input} {'is' if result else 'is not'} a palindrome\")"
      ]
    },
    {
      "cell_type": "markdown",
      "id": "e71451d8-adc1-4d52-b9f7-c1a69e3fa65a",
      "metadata": {
        "id": "e71451d8-adc1-4d52-b9f7-c1a69e3fa65a"
      },
      "source": [
        "**5.** An `anagram` is a word or phrase formed by rearranging the letters of a different word or phrase.  \n",
        "Define a function `is_anagram` that takes in 2 strings and check whether it is possible to compose a second string using letters in the first string or not.  \n",
        "**Example:** `Tom Marrvolo Riddle` can be rearraged into `I am Lord Voldermort`  \n",
        "`Meaning of Life` can be rearranged into `Engine of a Film`  \n",
        "Do not consider whitespace. Use `str.replace(' ', '')` to remove whitespace from your string.  \n",
        "Case-insensitive. You can turn everything into lower or uppercase using `str.lower()` or `str.upper()`  \n",
        "Returns only `True` of `False`"
      ]
    },
    {
      "cell_type": "code",
      "execution_count": null,
      "id": "fb6fdf92-c164-49d1-9e2c-0065c9541409",
      "metadata": {
        "colab": {
          "base_uri": "https://localhost:8080/"
        },
        "id": "fb6fdf92-c164-49d1-9e2c-0065c9541409",
        "outputId": "449eb5c3-01a3-460c-bf2f-cd0fd34eaae0"
      },
      "outputs": [
        {
          "output_type": "stream",
          "name": "stdout",
          "text": [
            "True\n"
          ]
        }
      ],
      "source": [
        "# Write your code here\n",
        "str1 = \"Meaning of Life\"\n",
        "str2 = \"Engine of a Film\"\n",
        "\n",
        "def is_anagram(str1, str2):\n",
        "  removed_str1 = str1.replace(' ', '').lower()\n",
        "  removed_str2 = str2.replace(' ', '').lower()\n",
        "  return set(removed_str1) == set(removed_str2)\n",
        "\n",
        "ans = is_anagram(str1, str2)\n",
        "print(ans)"
      ]
    },
    {
      "cell_type": "markdown",
      "id": "b4930c70-1db0-4c50-93c7-406538b1d140",
      "metadata": {
        "id": "b4930c70-1db0-4c50-93c7-406538b1d140"
      },
      "source": [
        "---"
      ]
    }
  ],
  "metadata": {
    "kernelspec": {
      "display_name": "Python 3 (ipykernel)",
      "language": "python",
      "name": "python3"
    },
    "language_info": {
      "codemirror_mode": {
        "name": "ipython",
        "version": 3
      },
      "file_extension": ".py",
      "mimetype": "text/x-python",
      "name": "python",
      "nbconvert_exporter": "python",
      "pygments_lexer": "ipython3",
      "version": "3.9.7"
    },
    "colab": {
      "provenance": []
    }
  },
  "nbformat": 4,
  "nbformat_minor": 5
}