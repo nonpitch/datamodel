{
  "cells": [
    {
      "cell_type": "markdown",
      "metadata": {
        "id": "sSd5wUsfk-wh"
      },
      "source": [
        "# Lab 4: Data Visualization and EDA"
      ]
    },
    {
      "cell_type": "markdown",
      "metadata": {
        "id": "WLkVbVFZk-wk"
      },
      "source": [
        "Objectives:\n",
        "- To gain practice in creating various data visualizations\n",
        "- To encourage students to perform EDA on the required dataset"
      ]
    },
    {
      "cell_type": "markdown",
      "metadata": {
        "id": "FSM9oqhtk-wl"
      },
      "source": [
        "***"
      ]
    },
    {
      "cell_type": "markdown",
      "metadata": {
        "id": "U4jqygUtk-wm"
      },
      "source": [
        "1. Load all Superstore datasets.\n",
        "\n",
        "*Note: The same dataset used in Lab 3*"
      ]
    },
    {
      "cell_type": "code",
      "execution_count": 11,
      "metadata": {
        "id": "F9hJj9wRk-wm"
      },
      "outputs": [],
      "source": [
        "import pandas as pd\n",
        "import numpy as np\n",
        "\n",
        "superstore_order = pd.read_csv('superstore_order.csv')\n",
        "superstore_people = pd.read_csv('superstore_people.csv')\n",
        "superstore_return = pd.read_csv('superstore_return.csv')\n"
      ]
    },
    {
      "cell_type": "markdown",
      "metadata": {
        "id": "l7Y5xcxyk-wo"
      },
      "source": [
        "2. Determine shape of each dataset (print out the results as well)."
      ]
    },
    {
      "cell_type": "code",
      "execution_count": 12,
      "metadata": {
        "id": "dwfKMd4gk-wo",
        "colab": {
          "base_uri": "https://localhost:8080/"
        },
        "outputId": "1a35b689-da79-4254-bcd7-3c5ab4373e5f"
      },
      "outputs": [
        {
          "output_type": "stream",
          "name": "stdout",
          "text": [
            "(8880, 21)\n",
            "(4, 2)\n",
            "(296, 2)\n"
          ]
        }
      ],
      "source": [
        "print(superstore_order.shape)\n",
        "print(superstore_people.shape)\n",
        "print(superstore_return.shape)"
      ]
    },
    {
      "cell_type": "markdown",
      "metadata": {
        "id": "uw-N49mok-wp"
      },
      "source": [
        "3. Show information of the dataset.\n"
      ]
    },
    {
      "cell_type": "code",
      "execution_count": 13,
      "metadata": {
        "id": "EtmfVEtHk-wp",
        "colab": {
          "base_uri": "https://localhost:8080/"
        },
        "outputId": "8ab8a2d8-9eec-48b5-c7c4-bd21692fe460"
      },
      "outputs": [
        {
          "output_type": "stream",
          "name": "stdout",
          "text": [
            "<bound method DataFrame.info of       Row ID        Order ID  Order Date   Ship Date       Ship Mode  \\\n",
            "0          1  CA-2016-152156  08/11/2016  11/11/2016    Second Class   \n",
            "1          2  CA-2016-152156  08/11/2016  11/11/2016    Second Class   \n",
            "2          3  CA-2016-138688  12/06/2016  16/06/2016    Second Class   \n",
            "3          4  US-2015-108966  11/10/2015  18/10/2015  Standard Class   \n",
            "4          5  US-2015-108966  11/10/2015  18/10/2015  Standard Class   \n",
            "...      ...             ...         ...         ...             ...   \n",
            "8875    8876  US-2016-141264  13/08/2016  19/08/2016  Standard Class   \n",
            "8876    8877  US-2016-141264  13/08/2016  19/08/2016  Standard Class   \n",
            "8877    8878  CA-2017-126928  17/09/2017  23/09/2017  Standard Class   \n",
            "8878    8879  CA-2017-126928  17/09/2017  23/09/2017  Standard Class   \n",
            "8879    8880  US-2015-107944  23/03/2015  25/03/2015     First Class   \n",
            "\n",
            "     Customer ID    Customer Name    Segment        Country             City  \\\n",
            "0       CG-12520      Claire Gute   Consumer  United States        Henderson   \n",
            "1       CG-12520      Claire Gute   Consumer  United States        Henderson   \n",
            "2       DV-13045  Darrin Van Huff  Corporate  United States      Los Angeles   \n",
            "3       SO-20335    Sean ODonnell   Consumer  United States  Fort Lauderdale   \n",
            "4       SO-20335    Sean ODonnell   Consumer  United States  Fort Lauderdale   \n",
            "...          ...              ...        ...            ...              ...   \n",
            "8875    CT-11995     Carol Triggs   Consumer  United States           Irving   \n",
            "8876    CT-11995     Carol Triggs   Consumer  United States           Irving   \n",
            "8877    GZ-14470    Gary Zandusky   Consumer  United States       Morristown   \n",
            "8878    GZ-14470    Gary Zandusky   Consumer  United States       Morristown   \n",
            "8879    AM-10360   Alice McCarthy  Corporate  United States      Los Angeles   \n",
            "\n",
            "      ... Postal Code   Region       Product ID         Category Sub-Category  \\\n",
            "0     ...       42420    South  FUR-BO-10001798        Furniture    Bookcases   \n",
            "1     ...       42420    South  FUR-CH-10000454        Furniture       Chairs   \n",
            "2     ...       90036     West  OFF-LA-10000240  Office Supplies       Labels   \n",
            "3     ...       33311    South  FUR-TA-10000577        Furniture       Tables   \n",
            "4     ...       33311    South  OFF-ST-10000760  Office Supplies      Storage   \n",
            "...   ...         ...      ...              ...              ...          ...   \n",
            "8875  ...       75061  Central  OFF-SU-10003505  Office Supplies     Supplies   \n",
            "8876  ...       75061  Central  OFF-AP-10002534  Office Supplies   Appliances   \n",
            "8877  ...        7960     East  TEC-MA-10004626       Technology     Machines   \n",
            "8878  ...        7960     East  OFF-ST-10000615  Office Supplies      Storage   \n",
            "8879  ...       90008     West  OFF-PA-10000659  Office Supplies        Paper   \n",
            "\n",
            "                                           Product Name     Sales  Quantity  \\\n",
            "0                     Bush Somerset Collection Bookcase  261.9600         2   \n",
            "1     Hon Deluxe Fabric Upholstered Stacking Chairs ...  731.9400         3   \n",
            "2     Self-Adhesive Address Labels for Typewriters b...   14.6200         2   \n",
            "3         Bretford CR4500 Series Slim Rectangular Table  957.5775         5   \n",
            "4                         Eldon Fold N Roll Cart System   22.3680         2   \n",
            "...                                                 ...       ...       ...   \n",
            "8875                     Premier Electric Letter Opener  185.3760         2   \n",
            "8876  3.6 Cubic Foot Counter Height Office Refrigerator   58.9240         1   \n",
            "8877  Lexmark 20R1285 X6650 Wireless All-in-One Printer  480.0000         4   \n",
            "8878  SimpliFile Personal File Black Granite 15w x 6...   34.0500         3   \n",
            "8879  TOPS Carbonless Receipt Book Four 2-3/4 x 7-1/...  192.7200        11   \n",
            "\n",
            "      Discount    Profit  \n",
            "0         0.00   41.9136  \n",
            "1         0.00  219.5820  \n",
            "2         0.00    6.8714  \n",
            "3         0.45 -383.0310  \n",
            "4         0.20    2.5164  \n",
            "...        ...       ...  \n",
            "8875      0.20  -34.7580  \n",
            "8876      0.80 -153.2024  \n",
            "8877      0.00  225.6000  \n",
            "8878      0.00    9.5340  \n",
            "8879      0.00   92.5056  \n",
            "\n",
            "[8880 rows x 21 columns]>\n",
            "<bound method DataFrame.info of               Person   Region\n",
            "0      Anna Andreadi     West\n",
            "1        Chuck Magee     East\n",
            "2     Kelly Williams  Central\n",
            "3  Cassandra Brandow    South>\n",
            "<bound method DataFrame.info of     Returned        Order ID\n",
            "0        Yes  CA-2017-153822\n",
            "1        Yes  CA-2017-129707\n",
            "2        Yes  CA-2014-152345\n",
            "3        Yes  CA-2015-156440\n",
            "4        Yes  US-2017-155999\n",
            "..       ...             ...\n",
            "291      Yes  CA-2015-101910\n",
            "292      Yes  CA-2017-156958\n",
            "293      Yes  CA-2016-105585\n",
            "294      Yes  CA-2016-148796\n",
            "295      Yes  CA-2015-149636\n",
            "\n",
            "[296 rows x 2 columns]>\n"
          ]
        }
      ],
      "source": [
        "print(superstore_order.info)\n",
        "print(superstore_people.info)\n",
        "print(superstore_return.info)"
      ]
    },
    {
      "cell_type": "markdown",
      "metadata": {
        "id": "d7Ew4efzk-wq"
      },
      "source": [
        "4. Are there any missing values? If so, in which column?\n",
        "\n",
        "Ans: No, there are no missing value shown in the information above."
      ]
    },
    {
      "cell_type": "markdown",
      "metadata": {
        "id": "VxY5_EfHk-wq"
      },
      "source": [
        "5.\n",
        "- 5.1 List unique segments\n",
        "- 5.2 List unique segments and their corresponding count\n",
        "- 5.3 Create a pie chart to demonstrate unique segments and their count\n",
        "- 5.4 Briefly describe what could be interpreted from this pie chart\n",
        "\n",
        "*Note: please create additional cells to answer 5.2 - 5.3*"
      ]
    },
    {
      "cell_type": "code",
      "execution_count": 14,
      "metadata": {
        "id": "LQZJmVnMk-wr",
        "colab": {
          "base_uri": "https://localhost:8080/"
        },
        "outputId": "3ba654a2-db39-478d-a103-7de9fc77af94"
      },
      "outputs": [
        {
          "output_type": "stream",
          "name": "stdout",
          "text": [
            "Consumer\n",
            "Corporate\n",
            "Home Office\n"
          ]
        }
      ],
      "source": [
        "#5.1\n",
        "unique_segments = superstore_order['Segment'].unique()\n",
        "\n",
        "for segment in unique_segments:\n",
        "  print(segment)"
      ]
    },
    {
      "cell_type": "code",
      "source": [
        "#5.2\n",
        "count = superstore_order['Segment'].value_counts()\n",
        "print(count)"
      ],
      "metadata": {
        "colab": {
          "base_uri": "https://localhost:8080/"
        },
        "id": "ZdexOgGLu7wP",
        "outputId": "9b836f64-506e-4495-8a8b-2b72f12cc7e3"
      },
      "execution_count": 15,
      "outputs": [
        {
          "output_type": "stream",
          "name": "stdout",
          "text": [
            "Consumer       4613\n",
            "Corporate      2673\n",
            "Home Office    1594\n",
            "Name: Segment, dtype: int64\n"
          ]
        }
      ]
    },
    {
      "cell_type": "code",
      "source": [
        "#5.3\n",
        "import matplotlib.pyplot as plt\n",
        "\n",
        "plt.pie(count, labels=count.index, autopct='%1.1f%%')"
      ],
      "metadata": {
        "colab": {
          "base_uri": "https://localhost:8080/",
          "height": 562
        },
        "id": "GrLaZRn4vev2",
        "outputId": "cfe99e74-c557-46aa-fe61-c439283fe1fb"
      },
      "execution_count": 19,
      "outputs": [
        {
          "output_type": "execute_result",
          "data": {
            "text/plain": [
              "([<matplotlib.patches.Wedge at 0x7e652e56a740>,\n",
              "  <matplotlib.patches.Wedge at 0x7e652e56a620>,\n",
              "  <matplotlib.patches.Wedge at 0x7e652e56b310>],\n",
              " [Text(-0.06728278517164839, 1.0979403566767851, 'Consumer'),\n",
              "  Text(-0.5299974390962526, -0.9638997429978982, 'Corporate'),\n",
              "  Text(0.9296769390550397, -0.5879632547951039, 'Home Office')],\n",
              " [Text(-0.0366997010027173, 0.5988765581873372, '51.9%'),\n",
              "  Text(-0.2890895122343196, -0.5257634961806716, '30.1%'),\n",
              "  Text(0.5070965122118397, -0.32070722988823847, '18.0%')])"
            ]
          },
          "metadata": {},
          "execution_count": 19
        },
        {
          "output_type": "display_data",
          "data": {
            "text/plain": [
              "<Figure size 640x480 with 1 Axes>"
            ],
            "image/png": "[encoded data removed]"
          },
          "metadata": {}
        }
      ]
    },
    {
      "cell_type": "markdown",
      "metadata": {
        "id": "bjTm7BWCk-wr"
      },
      "source": [
        "Answer for the question 5.4\n",
        "\n",
        "Ans: The ratio of customer order of the company most is on consumer and then corporate, so focusing on consumer product would be benefits to the company."
      ]
    },
    {
      "cell_type": "markdown",
      "metadata": {
        "id": "y2ukEx4Kk-ws"
      },
      "source": [
        "6.\n",
        "- 6.1 List unique states\n",
        "- 6.2 List top-10 unique states and their corresponding count\n",
        "- 6.3 Create a bar chart (vertical) to demonstrate the count of top-10 unique states\n",
        "- 6.4 Based on 6.2, also include the total sales of these states (show your result as a dataframe)\n",
        "- 6.5 Using the result from 6.4, if you were the owner of this superstore, what information could be interpreted from this result?\n",
        "\n",
        "*Note: please create additional cells to answer 6.2 - 6.4*"
      ]
    },
    {
      "cell_type": "code",
      "execution_count": 32,
      "metadata": {
        "id": "2EvWwXBmk-ws",
        "colab": {
          "base_uri": "https://localhost:8080/"
        },
        "outputId": "913a371d-5a56-487e-c7df-3d852a01a31c"
      },
      "outputs": [
        {
          "output_type": "stream",
          "name": "stdout",
          "text": [
            "Kentucky\n",
            "California\n",
            "Florida\n",
            "North Carolina\n",
            "Washington\n",
            "Texas\n",
            "Wisconsin\n",
            "Utah\n",
            "Nebraska\n",
            "Pennsylvania\n",
            "Illinois\n",
            "Minnesota\n",
            "Michigan\n",
            "Delaware\n",
            "Indiana\n",
            "New York\n",
            "Arizona\n",
            "Virginia\n",
            "Tennessee\n",
            "Alabama\n",
            "South Carolina\n",
            "Oregon\n",
            "Colorado\n",
            "Iowa\n",
            "Ohio\n",
            "Missouri\n",
            "Oklahoma\n",
            "New Mexico\n",
            "Louisiana\n",
            "Connecticut\n",
            "New Jersey\n",
            "Massachusetts\n",
            "Georgia\n",
            "Nevada\n",
            "Rhode Island\n",
            "Mississippi\n",
            "Arkansas\n",
            "Montana\n",
            "New Hampshire\n",
            "Maryland\n",
            "District of Columbia\n",
            "Kansas\n",
            "Vermont\n",
            "Maine\n",
            "South Dakota\n",
            "Idaho\n",
            "North Dakota\n",
            "Wyoming\n",
            "West Virginia\n"
          ]
        }
      ],
      "source": [
        "# Write your code here (6.1)\n",
        "unique_states = superstore_order['State'].unique()\n",
        "\n",
        "for State in unique_states:\n",
        "  print(State)"
      ]
    },
    {
      "cell_type": "code",
      "source": [
        "#6.2\n",
        "count_states = superstore_order['State'].value_counts().head(10)\n",
        "print(count_states)"
      ],
      "metadata": {
        "colab": {
          "base_uri": "https://localhost:8080/"
        },
        "id": "VMvIFNc7yBWS",
        "outputId": "f1e45648-847e-4aab-b530-76495976a017"
      },
      "execution_count": 35,
      "outputs": [
        {
          "output_type": "stream",
          "name": "stdout",
          "text": [
            "California        1754\n",
            "New York          1001\n",
            "Texas              860\n",
            "Pennsylvania       531\n",
            "Washington         452\n",
            "Illinois           427\n",
            "Ohio               396\n",
            "Florida            339\n",
            "Michigan           230\n",
            "North Carolina     229\n",
            "Name: State, dtype: int64\n"
          ]
        }
      ]
    },
    {
      "cell_type": "code",
      "source": [
        "#6.3\n",
        "import matplotlib.pyplot as plt\n",
        "\n",
        "count_states.plot(kind='bar', color='green')\n",
        "plt.title('top 10 unique states')\n",
        "plt.xlabel('state');plt.ylabel('count')\n",
        "\n",
        "plt.tight_layout()\n",
        "plt.show()"
      ],
      "metadata": {
        "colab": {
          "base_uri": "https://localhost:8080/",
          "height": 487
        },
        "id": "GuDVmrcoyfw0",
        "outputId": "9be2c1ed-93a4-428a-b23b-aa536ac0d9ae"
      },
      "execution_count": 42,
      "outputs": [
        {
          "output_type": "display_data",
          "data": {
            "text/plain": [
              "<Figure size 640x480 with 1 Axes>"
            ],
            "image/png": "[encoded data removed]"
          },
          "metadata": {}
        }
      ]
    },
    {
      "cell_type": "code",
      "source": [
        "#6.4\n",
        "total_sales = superstore_order[superstore_order['State'].isin(count_states.index)].groupby('State')['Sales'].sum().reset_index()\n",
        "\n",
        "print(\"Total Sales for Top 10 States:\")\n",
        "print(total_sales)\n"
      ],
      "metadata": {
        "colab": {
          "base_uri": "https://localhost:8080/"
        },
        "id": "HsVzIVpz0h4q",
        "outputId": "ce030ca2-6fa7-4098-e20f-8b552d72cc55"
      },
      "execution_count": 49,
      "outputs": [
        {
          "output_type": "stream",
          "name": "stdout",
          "text": [
            "Total Sales for Top 10 States:\n",
            "            State        Sales\n",
            "0      California  399195.4555\n",
            "1         Florida   84083.0880\n",
            "2        Illinois   71456.1780\n",
            "3        Michigan   62147.6960\n",
            "4        New York  274866.8190\n",
            "5  North Carolina   49962.1580\n",
            "6            Ohio   67924.2140\n",
            "7    Pennsylvania  103852.5210\n",
            "8           Texas  147855.0282\n",
            "9      Washington  124497.7780\n"
          ]
        }
      ]
    },
    {
      "cell_type": "markdown",
      "metadata": {
        "id": "XXTLXppVk-ws"
      },
      "source": [
        "Answer for the question 6.5\n",
        "\n",
        "Ans: California and New York have very high demand and volume, so more product can be ship and sell in these states."
      ]
    },
    {
      "cell_type": "markdown",
      "metadata": {
        "id": "NpsSnJplk-wt"
      },
      "source": [
        "7.\n",
        "- 7.1 List unique categories\n",
        "- 7.2 Create a bar chart (horizontal) to demonstrate the proportion of these categories\n",
        "- 7.3 Compute the ratio of these categories in percentage and print the results\n",
        "\n",
        "*Note: please create additional cells to answer 7.2 - 7.3*"
      ]
    },
    {
      "cell_type": "code",
      "execution_count": 51,
      "metadata": {
        "id": "tG79qsztk-wt",
        "colab": {
          "base_uri": "https://localhost:8080/"
        },
        "outputId": "85e933c3-3854-4367-b4ff-72b1ed72090d"
      },
      "outputs": [
        {
          "output_type": "stream",
          "name": "stdout",
          "text": [
            "Furniture\n",
            "Office Supplies\n",
            "Technology\n"
          ]
        }
      ],
      "source": [
        "# Write your code here (7.1)\n",
        "unique_category = superstore_order['Category'].unique()\n",
        "for Category in unique_category:\n",
        "  print(Category)"
      ]
    },
    {
      "cell_type": "code",
      "source": [
        "#7.2\n",
        "import matplotlib.pyplot as plt\n",
        "\n",
        "count_category = superstore_order['Category'].value_counts()\n",
        "count_category.plot(kind='barh', color='green')\n",
        "plt.title('Categories')\n",
        "plt.xlabel('count');plt.ylabel('Categories')\n",
        "\n",
        "plt.tight_layout()\n",
        "plt.show()"
      ],
      "metadata": {
        "colab": {
          "base_uri": "https://localhost:8080/",
          "height": 487
        },
        "id": "PNo2lDsk3BvX",
        "outputId": "eca3da1c-f3aa-48a0-d2a1-ac57eccc50bc"
      },
      "execution_count": 57,
      "outputs": [
        {
          "output_type": "display_data",
          "data": {
            "text/plain": [
              "<Figure size 640x480 with 1 Axes>"
            ],
            "image/png": "[encoded data removed]"
          },
          "metadata": {}
        }
      ]
    },
    {
      "cell_type": "code",
      "source": [
        "#7.3\n",
        "category_percent = (count_category/count_category.sum()) * 100\n",
        "print(category_percent)\n"
      ],
      "metadata": {
        "colab": {
          "base_uri": "https://localhost:8080/"
        },
        "id": "C1SfL7ED46T-",
        "outputId": "1f0a7dea-d017-4b6e-a3c8-6acd4946703b"
      },
      "execution_count": 64,
      "outputs": [
        {
          "output_type": "stream",
          "name": "stdout",
          "text": [
            "Office Supplies    60.360360\n",
            "Furniture          21.171171\n",
            "Technology         18.468468\n",
            "Name: Category, dtype: float64\n"
          ]
        }
      ]
    },
    {
      "cell_type": "markdown",
      "metadata": {
        "id": "gpH8MZSbk-wt"
      },
      "source": [
        "8. Update the type of all columns that contain dates to *datetime* and show information after an update."
      ]
    },
    {
      "cell_type": "code",
      "execution_count": 78,
      "metadata": {
        "id": "KTS8ixfqk-wu",
        "colab": {
          "base_uri": "https://localhost:8080/"
        },
        "outputId": "96a8207b-f445-4805-9da0-0aacc20c4b3b"
      },
      "outputs": [
        {
          "output_type": "stream",
          "name": "stdout",
          "text": [
            "     Order Date  Ship Date\n",
            "0    2016-08-11 2016-11-11\n",
            "1    2016-08-11 2016-11-11\n",
            "2    2016-12-06 2016-06-16\n",
            "3    2015-11-10 2015-10-18\n",
            "4    2015-11-10 2015-10-18\n",
            "...         ...        ...\n",
            "8875 2016-08-13 2016-08-19\n",
            "8876 2016-08-13 2016-08-19\n",
            "8877 2017-09-17 2017-09-23\n",
            "8878 2017-09-17 2017-09-23\n",
            "8879 2015-03-23 2015-03-25\n",
            "\n",
            "[8880 rows x 2 columns]\n"
          ]
        }
      ],
      "source": [
        "date_columns=['Order Date', 'Ship Date']\n",
        "superstore_order[date_columns]=superstore_order[date_columns].apply(pd.to_datetime)\n",
        "\n",
        "print(superstore_order[date_columns])"
      ]
    },
    {
      "cell_type": "markdown",
      "metadata": {
        "id": "MRVsn5osk-wu"
      },
      "source": [
        "9. Create a new column \"Processing time day\" to show number of days taken to ship an order and show your result in a dataframe format.\n",
        "\n",
        "*Hint: The duration starts as soon as the item has been ordered and ends once the order has successfully shipped.*"
      ]
    },
    {
      "cell_type": "code",
      "execution_count": 83,
      "metadata": {
        "id": "n9lgvjxVk-wu",
        "colab": {
          "base_uri": "https://localhost:8080/"
        },
        "outputId": "a09cf2ef-afd1-43b5-da15-7239352283c3"
      },
      "outputs": [
        {
          "output_type": "stream",
          "name": "stdout",
          "text": [
            "     Order Date  Ship Date  Processing time day\n",
            "0    2016-08-11 2016-11-11                   92\n",
            "1    2016-08-11 2016-11-11                   92\n",
            "2    2016-12-06 2016-06-16                  173\n",
            "3    2015-11-10 2015-10-18                   23\n",
            "4    2015-11-10 2015-10-18                   23\n",
            "...         ...        ...                  ...\n",
            "8875 2016-08-13 2016-08-19                    6\n",
            "8876 2016-08-13 2016-08-19                    6\n",
            "8877 2017-09-17 2017-09-23                    6\n",
            "8878 2017-09-17 2017-09-23                    6\n",
            "8879 2015-03-23 2015-03-25                    2\n",
            "\n",
            "[8880 rows x 3 columns]\n"
          ]
        }
      ],
      "source": [
        "superstore_order['Order Date'] = pd.to_datetime(superstore_order['Order Date'])\n",
        "superstore_order['Ship Date'] = pd.to_datetime(superstore_order['Ship Date'])\n",
        "\n",
        "superstore_order['Processing time day'] = (superstore_order['Ship Date']-superstore_order['Order Date']).dt.days.abs()\n",
        "\n",
        "print(superstore_order[['Order Date', 'Ship Date', 'Processing time day']])"
      ]
    },
    {
      "cell_type": "markdown",
      "metadata": {
        "id": "pExru8sOk-wu"
      },
      "source": [
        "10. Based on the result in 9.\n",
        "- 10.1 How many orders are there that take more than 5 days to process?\n",
        "- 10.2 Show the top 5 rows (expected output should contain these columns: Order ID, Order Date, Ship Date, Processing time day, Quantity)\n",
        "- 10.3 Plot the histogram based on the column Quantity\n",
        "\n",
        "*Note: please create additional cells to answer 10.2 - 10.3*"
      ]
    },
    {
      "cell_type": "code",
      "execution_count": 87,
      "metadata": {
        "id": "0_WsXKtek-wv",
        "colab": {
          "base_uri": "https://localhost:8080/"
        },
        "outputId": "4177b4c6-43ae-49c7-e34e-087dc7c73130"
      },
      "outputs": [
        {
          "output_type": "stream",
          "name": "stdout",
          "text": [
            "Number of orders taking more than 5 days: 4963\n"
          ]
        }
      ],
      "source": [
        "# Write your code here (10.1)\n",
        "morethan5 = (superstore_order['Processing time day'] > 5).sum()\n",
        "\n",
        "print(f\"Number of orders taking more than 5 days: {morethan5}\")"
      ]
    },
    {
      "cell_type": "code",
      "source": [
        "#10.2\n",
        "order_info = superstore_order[['Order ID', 'Order Date', 'Ship Date', 'Processing time day', 'Quantity']].head()\n",
        "print(order_info)"
      ],
      "metadata": {
        "colab": {
          "base_uri": "https://localhost:8080/"
        },
        "id": "I2Rxxkmi_Ll3",
        "outputId": "c78753e5-ff2f-4429-a422-4842cb8f9022"
      },
      "execution_count": 89,
      "outputs": [
        {
          "output_type": "stream",
          "name": "stdout",
          "text": [
            "         Order ID Order Date  Ship Date  Processing time day  Quantity\n",
            "0  CA-2016-152156 2016-08-11 2016-11-11                   92         2\n",
            "1  CA-2016-152156 2016-08-11 2016-11-11                   92         3\n",
            "2  CA-2016-138688 2016-12-06 2016-06-16                  173         2\n",
            "3  US-2015-108966 2015-11-10 2015-10-18                   23         5\n",
            "4  US-2015-108966 2015-11-10 2015-10-18                   23         2\n"
          ]
        }
      ]
    },
    {
      "cell_type": "code",
      "source": [
        "#10.3\n",
        "plt.hist(superstore_order['Quantity'], bins=20, color='green', edgecolor='black')\n",
        "plt.title('Quantity')\n",
        "\n",
        "plt.xlabel('Quantity')\n",
        "plt.ylabel('Frequency')\n",
        "\n",
        "plt.show()"
      ],
      "metadata": {
        "colab": {
          "base_uri": "https://localhost:8080/",
          "height": 472
        },
        "id": "qjdl7m_w_hZE",
        "outputId": "da96e654-a806-40f4-e72c-2764cc8a2a87"
      },
      "execution_count": 99,
      "outputs": [
        {
          "output_type": "display_data",
          "data": {
            "text/plain": [
              "<Figure size 640x480 with 1 Axes>"
            ],
            "image/png": "[encoded data removed]"
          },
          "metadata": {}
        }
      ]
    },
    {
      "cell_type": "markdown",
      "metadata": {
        "id": "TcgPNq1gk-wv"
      },
      "source": [
        "[BONUS 20 pts] Determine the percentage of customers who:\n",
        "- B1)returned the product once\n",
        "- B2) returned the product at least once\n",
        "- B3) never returned the product\n",
        "- Finally, Plot a comparison of B2 and B3\n",
        "\n",
        "*Note: please create additional cells to answer the above points*"
      ]
    },
    {
      "cell_type": "code",
      "execution_count": 105,
      "metadata": {
        "id": "u8E7IYmfk-wv",
        "colab": {
          "base_uri": "https://localhost:8080/"
        },
        "outputId": "db925d66-2540-4447-bf9c-5006d35461f2"
      },
      "outputs": [
        {
          "output_type": "stream",
          "name": "stdout",
          "text": [
            "Percentage of customers that returned once: 100.00%\n"
          ]
        }
      ],
      "source": [
        "#B1\n",
        "returned = superstore_return[superstore_return['Returned']=='Yes']['Order ID'].unique()\n",
        "\n",
        "once = (len(returned)/len(superstore_return['Order ID'].unique())) * 100\n",
        "\n",
        "print(f\"Percentage of customers that returned once: {once:.2f}%\")"
      ]
    },
    {
      "cell_type": "code",
      "source": [
        "#B2\n",
        "returned_once = superstore_return[superstore_return['Returned']=='Yes']['Order ID'].unique()\n",
        "\n",
        "least_once = (len(returned_once)/len(superstore_return['Order ID'].unique())) * 100\n",
        "\n",
        "print(f\"Percentage of customers that returned_once at least once: {least_once:.2f}%\")"
      ],
      "metadata": {
        "colab": {
          "base_uri": "https://localhost:8080/"
        },
        "id": "Jw89-HhUBy58",
        "outputId": "a545ce56-7227-471c-8096-ba571d9b42ed"
      },
      "execution_count": 113,
      "outputs": [
        {
          "output_type": "stream",
          "name": "stdout",
          "text": [
            "Percentage of customers that returned_once at least once: 100.00%\n"
          ]
        }
      ]
    },
    {
      "cell_type": "code",
      "source": [
        "#B3\n",
        "never_returned = superstore_return[superstore_return['Returned']=='No']['Order ID'].unique()\n",
        "\n",
        "never = (len(never_returned)/len(superstore_return['Order ID'].unique())) * 100\n",
        "\n",
        "print(f\"Percentage of customers that never never_returned: {never:.2f}%\")"
      ],
      "metadata": {
        "colab": {
          "base_uri": "https://localhost:8080/"
        },
        "id": "U-50CeMzCShi",
        "outputId": "04a1d01a-4ad2-4e43-a111-8b455c176d85"
      },
      "execution_count": 112,
      "outputs": [
        {
          "output_type": "stream",
          "name": "stdout",
          "text": [
            "Percentage of customers that never never_returned: 0.00%\n"
          ]
        }
      ]
    },
    {
      "cell_type": "code",
      "source": [
        "labels = ['Returned at Least Once (B2)', 'Never Returned (B3)']\n",
        "percentages = [least_once, never]\n",
        "\n",
        "plt.bar(labels, percentages, color=['blue', 'green'])\n",
        "plt.title('Comparison of B2 & B3')\n",
        "\n",
        "plt.ylabel('Percentage')\n",
        "plt.show()"
      ],
      "metadata": {
        "colab": {
          "base_uri": "https://localhost:8080/",
          "height": 452
        },
        "id": "6-lRR8kuCpND",
        "outputId": "aa872d35-c055-4971-e666-1d3f50d91571"
      },
      "execution_count": 115,
      "outputs": [
        {
          "output_type": "display_data",
          "data": {
            "text/plain": [
              "<Figure size 640x480 with 1 Axes>"
            ],
            "image/png": "[encoded data removed]"
          },
          "metadata": {}
        }
      ]
    }
  ],
  "metadata": {
    "kernelspec": {
      "display_name": "Python 3.11.1 64-bit",
      "language": "python",
      "name": "python3"
    },
    "language_info": {
      "name": "python",
      "version": "3.11.1"
    },
    "orig_nbformat": 4,
    "vscode": {
      "interpreter": {
        "hash": "aee8b7b246df8f9039afb4144a1f6fd8d2ca17a180786b69acc140d282b71a49"
      }
    },
    "colab": {
      "provenance": []
    }
  },
  "nbformat": 4,
  "nbformat_minor": 0
}