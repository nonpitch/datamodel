{
  "nbformat": 4,
  "nbformat_minor": 0,
  "metadata": {
    "colab": {
      "provenance": []
    },
    "kernelspec": {
      "name": "python3",
      "display_name": "Python 3"
    },
    "language_info": {
      "name": "python"
    }
  },
  "cells": [
    {
      "cell_type": "code",
      "execution_count": 10,
      "metadata": {
        "colab": {
          "base_uri": "https://localhost:8080/"
        },
        "id": "715GQId2Cc9p",
        "outputId": "b4d00d59-1fbd-4381-fca4-509062a0d319"
      },
      "outputs": [
        {
          "output_type": "stream",
          "name": "stdout",
          "text": [
            "first centroid: [5.6 6. ]\n",
            "second centroid: [14.6 11.8]\n",
            "third centroid: [15.8 16.8]\n"
          ]
        }
      ],
      "source": [
        "#65070503428 Pitchayapat Wareevanich\n",
        "import numpy as np\n",
        "\n",
        "#to define all the data points and initial centroids\n",
        "datapoints = np.array([[5, 7], [15, 12], [16, 18], [6, 6], [16, 11], [15, 11], [6, 4], [13, 13], [16, 17], [5, 5], [15, 17], [16, 17], [6, 8], [14, 12], [16, 15]])\n",
        "\n",
        "initialcentroids = np.array([[5, 12], [15, 4], [10, 17]])\n",
        "\n",
        "def k_means(data, centroids, iterations):\n",
        "    for i in range(iterations):\n",
        "\n",
        "        #to give data points to the centroids\n",
        "        clusters = [[] for i in range(len(centroids))]\n",
        "\n",
        "        for point in data:\n",
        "            distance = [np.linalg.norm(point - centroid) for centroid in centroids]\n",
        "            cluster_index = np.argmin(distance)\n",
        "            clusters[cluster_index].append(point)\n",
        "\n",
        "        #calculate the new centroids\n",
        "        newcentroids = []\n",
        "        for cluster in clusters:\n",
        "            new_centroid = np.mean(cluster, axis=0)\n",
        "            newcentroids.append(new_centroid)\n",
        "\n",
        "        centroids = np.array(newcentroids)\n",
        "\n",
        "    return centroids\n",
        "\n",
        "#do the k-means clustering\n",
        "finalcentroids = k_means(datapoints, initialcentroids, iterations=3)\n",
        "\n",
        "#to print the final result\n",
        "for i, centroid in enumerate(finalcentroids):\n",
        "    print(f\"{['first', 'second', 'third'][i]} centroid: {centroid}\")\n"
      ]
    },
    {
      "cell_type": "code",
      "source": [],
      "metadata": {
        "id": "rmAQlkkhr5EK"
      },
      "execution_count": null,
      "outputs": []
    }
  ]
}